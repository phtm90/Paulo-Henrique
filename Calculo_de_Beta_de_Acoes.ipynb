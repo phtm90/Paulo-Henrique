{
  "nbformat": 4,
  "nbformat_minor": 0,
  "metadata": {
    "colab": {
      "provenance": []
    },
    "kernelspec": {
      "name": "python3",
      "display_name": "Python 3"
    },
    "language_info": {
      "name": "python"
    }
  },
  "cells": [
    {
      "cell_type": "code",
      "execution_count": 1,
      "metadata": {
        "id": "2vnebTwFCzt4"
      },
      "outputs": [],
      "source": [
        "import yfinance as yf\n",
        "import statsmodels.api as sm\n",
        "from datetime import timedelta\n",
        "from datetime import datetime"
      ]
    },
    {
      "cell_type": "code",
      "source": [
        "acoes = [\"MGLU3.SA\", \"^BVSP\"]\n",
        "data = datetime.now()\n",
        "cinco_anos_atras = data - timedelta(days = 1825)\n",
        "\n",
        "cotacoes = yf.download(acoes, cinco_anos_atras, data)['Adj Close']\n",
        "\n",
        "cotacoes"
      ],
      "metadata": {
        "id": "Qx-zmvBxC1Hz"
      },
      "execution_count": null,
      "outputs": []
    },
    {
      "cell_type": "code",
      "source": [
        "retornos = cotacoes.pct_change().dropna()\n",
        "\n",
        "retornos"
      ],
      "metadata": {
        "id": "jvpqz6mjEISq"
      },
      "execution_count": null,
      "outputs": []
    },
    {
      "cell_type": "markdown",
      "source": [
        "# **Calculo de Beta**"
      ],
      "metadata": {
        "id": "kwiy66lBE2mm"
      }
    },
    {
      "cell_type": "code",
      "source": [
        "X = retornos['^BVSP']\n",
        "Y = retornos[acoes[0]]\n",
        "X = sm.add_constant(X)\n",
        "model = sm.OLS(Y, X).fit()\n",
        "\n"
      ],
      "metadata": {
        "id": "lXGWlfILE7gD"
      },
      "execution_count": 49,
      "outputs": []
    },
    {
      "cell_type": "code",
      "source": [
        "# Beta\n",
        "print(model.params[1])\n",
        "print(model.rsquared)\n",
        "print(\"---------------------------------------\")\n",
        "print(str(model.summary()))"
      ],
      "metadata": {
        "id": "3azDDajCFcs1"
      },
      "execution_count": null,
      "outputs": []
    }
  ]
}